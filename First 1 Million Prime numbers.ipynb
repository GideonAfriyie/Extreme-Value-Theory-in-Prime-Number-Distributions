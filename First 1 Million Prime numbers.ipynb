{
 "cells": [
  {
   "cell_type": "code",
   "execution_count": 3,
   "id": "aa5848b3-c7d4-4985-ab74-c61f1c03ebe3",
   "metadata": {},
   "outputs": [
    {
     "name": "stdout",
     "output_type": "stream",
     "text": [
      "First 1,000,000 primes saved to 'first_1000000_primes.csv'\n"
     ]
    }
   ],
   "source": [
    "# @author: gideonafriyie\n",
    "# Generate the first 1,000,000 prime numbers efficiently using the Sieve of Eratosthenes\n",
    "\n",
    "import csv\n",
    "import math\n",
    "\n",
    "def sieve(limit):\n",
    "    sieve = [True] * limit\n",
    "    sieve[0:2] = [False, False]\n",
    "    for i in range(2, int(math.sqrt(limit)) + 1):\n",
    "        if sieve[i]:\n",
    "            sieve[i*i : limit : i] = [False] * len(range(i*i, limit, i))\n",
    "    return [i for i, is_prime in enumerate(sieve) if is_prime]\n",
    "\n",
    "# Estimate a safe upper bound for the first 1,000,000 primes using the prime number theorem\n",
    "# nth prime is approximately n * log(n); add a buffer\n",
    "from math import log\n",
    "n = 1_000_000\n",
    "upper_bound = int(n * log(n) * 1.2)\n",
    "\n",
    "# Generate primes\n",
    "all_primes = sieve(upper_bound)\n",
    "first_million_primes = all_primes[:n]\n",
    "\n",
    "# Write to CSV\n",
    "with open('first_1000000_primes.csv', 'w', newline='') as f:\n",
    "    writer = csv.writer(f)\n",
    "    writer.writerow(['Prime Number'])\n",
    "    for p in first_million_primes:\n",
    "        writer.writerow([p])\n",
    "\n",
    "print(\"First 1,000,000 primes saved to 'first_1000000_primes.csv'\")\n"
   ]
  },
  {
   "cell_type": "code",
   "execution_count": null,
   "id": "791f61ca-c11f-410d-bbc2-6a1745a99145",
   "metadata": {},
   "outputs": [],
   "source": [
    "\n",
    "\n"
   ]
  }
 ],
 "metadata": {
  "kernelspec": {
   "display_name": "Python 3 (ipykernel)",
   "language": "python",
   "name": "python3"
  },
  "language_info": {
   "codemirror_mode": {
    "name": "ipython",
    "version": 3
   },
   "file_extension": ".py",
   "mimetype": "text/x-python",
   "name": "python",
   "nbconvert_exporter": "python",
   "pygments_lexer": "ipython3",
   "version": "3.12.4"
  }
 },
 "nbformat": 4,
 "nbformat_minor": 5
}
