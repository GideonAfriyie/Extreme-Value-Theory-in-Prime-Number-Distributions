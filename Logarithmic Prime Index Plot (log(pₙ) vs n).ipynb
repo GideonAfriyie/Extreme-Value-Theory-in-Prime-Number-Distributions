{
 "cells": [
  {
   "cell_type": "code",
   "execution_count": 2,
   "id": "4f9cd561-1ab5-4440-ab96-810d4e5404a0",
   "metadata": {},
   "outputs": [
    {
     "ename": "NameError",
     "evalue": "name 'churn_df' is not defined",
     "output_type": "error",
     "traceback": [
      "\u001b[0;31m---------------------------------------------------------------------------\u001b[0m",
      "\u001b[0;31mNameError\u001b[0m                                 Traceback (most recent call last)",
      "Cell \u001b[0;32mIn[2], line 2\u001b[0m\n\u001b[1;32m      1\u001b[0m \u001b[38;5;28;01mfrom\u001b[39;00m \u001b[38;5;21;01msklearn\u001b[39;00m\u001b[38;5;21;01m.\u001b[39;00m\u001b[38;5;21;01mneighbors\u001b[39;00m \u001b[38;5;28;01mimport\u001b[39;00m KNeighborsClassifier\n\u001b[0;32m----> 2\u001b[0m X \u001b[38;5;241m=\u001b[39m churn_df[ [\u001b[38;5;124m\"\u001b[39m\u001b[38;5;124mtotal_day_charge\u001b[39m\u001b[38;5;124m\"\u001b[39m, \u001b[38;5;124m\"\u001b[39m\u001b[38;5;124mtotal_eve_charge\u001b[39m\u001b[38;5;124m\"\u001b[39m] ]\u001b[38;5;241m.\u001b[39mvalues\n\u001b[1;32m      3\u001b[0m y \u001b[38;5;241m=\u001b[39m churn_df[\u001b[38;5;124m\"\u001b[39m\u001b[38;5;124mchurn\u001b[39m\u001b[38;5;124m\"\u001b[39m]\u001b[38;5;241m.\u001b[39mvalues\n\u001b[1;32m      4\u001b[0m \u001b[38;5;28mprint\u001b[39m(X\u001b[38;5;241m.\u001b[39mSHAPE, y\u001b[38;5;241m.\u001b[39mshape)\n",
      "\u001b[0;31mNameError\u001b[0m: name 'churn_df' is not defined"
     ]
    }
   ],
   "source": [
    "from sklearn.neighbors import KNeighborsClassifier\n",
    "X = churn_df[ [\"total_day_charge\", \"total_eve_charge\"] ].values\n",
    "y = churn_df[\"churn\"].values\n",
    "print(X.SHAPE, y.shape)"
   ]
  },
  {
   "cell_type": "code",
   "execution_count": null,
   "id": "7e86ab89-64d7-4dcd-baf1-a5e341c5f04f",
   "metadata": {},
   "outputs": [],
   "source": []
  }
 ],
 "metadata": {
  "kernelspec": {
   "display_name": "Python 3 (ipykernel)",
   "language": "python",
   "name": "python3"
  },
  "language_info": {
   "codemirror_mode": {
    "name": "ipython",
    "version": 3
   },
   "file_extension": ".py",
   "mimetype": "text/x-python",
   "name": "python",
   "nbconvert_exporter": "python",
   "pygments_lexer": "ipython3",
   "version": "3.12.4"
  }
 },
 "nbformat": 4,
 "nbformat_minor": 5
}
